{
 "cells": [
  {
   "cell_type": "markdown",
   "metadata": {},
   "source": [
    "<p style=\"font-family: Arial; font-size:3em;color:black;\"> Lab Exercise 4 </p>"
   ]
  },
  {
   "cell_type": "markdown",
   "metadata": {},
   "source": [
    "Students name in this Group:  \n",
    "Nooh Faisal\\\n",
    "Wai Hong Fung\\\n",
    "Mae Lam\\\n",
    "Ho Kong Leung\\\n",
    "Mayuresh Nerurkar\\\n",
    "Ramana Surriyan Rajendran\\\n",
    "Hanlun Wang\\\n",
    "Wing Han Yiu"
   ]
  },
  {
   "cell_type": "code",
   "execution_count": 1,
   "metadata": {},
   "outputs": [],
   "source": [
    "import numpy as np\n",
    "from numpy.linalg import inv\n",
    "from numpy.linalg import det"
   ]
  },
  {
   "cell_type": "code",
   "execution_count": 13,
   "metadata": {},
   "outputs": [
    {
     "name": "stdout",
     "output_type": "stream",
     "text": [
      "[[5 2 3]\n",
      " [6 1 3]\n",
      " [2 4 1]]\n",
      "[[5 2]\n",
      " [6 1]]\n",
      "[[1 3]\n",
      " [4 1]]\n"
     ]
    }
   ],
   "source": [
    "A = np.array([[5,2,3],[6,1,3],[2,4,1]])\n",
    "print(A)\n",
    "B = A[:2, :2]\n",
    "print(B)\n",
    "C = A[1:, 1:]\n",
    "print(C)"
   ]
  },
  {
   "cell_type": "code",
   "execution_count": 14,
   "metadata": {},
   "outputs": [
    {
     "name": "stdout",
     "output_type": "stream",
     "text": [
      "[[ 4 -7  4]\n",
      " [ 5  6 -1]\n",
      " [-4  2  5]]\n"
     ]
    }
   ],
   "source": [
    "D = np.array([[4,-7,4],[5,6,-1],[-4,2,5]])\n",
    "print(D)"
   ]
  },
  {
   "cell_type": "code",
   "execution_count": 15,
   "metadata": {
    "scrolled": true
   },
   "outputs": [
    {
     "name": "stdout",
     "output_type": "stream",
     "text": [
      "[[ 18 -17  33]\n",
      " [ 17 -30  38]\n",
      " [ 24  12   9]]\n",
      "[[-14  17  -5]\n",
      " [ 59  12  32]\n",
      " [  2  14  -1]]\n"
     ]
    }
   ],
   "source": [
    "AD = np.matmul(A,D)\n",
    "print(AD)\n",
    "DA = np.matmul(D,A)\n",
    "print(DA)"
   ]
  },
  {
   "cell_type": "markdown",
   "metadata": {},
   "source": [
    "AD and DA are not equal"
   ]
  },
  {
   "cell_type": "code",
   "execution_count": 16,
   "metadata": {},
   "outputs": [
    {
     "name": "stdout",
     "output_type": "stream",
     "text": [
      "-6.999999999999998\n",
      "[[-0.14285714  0.28571429]\n",
      " [ 0.85714286 -0.71428571]]\n"
     ]
    }
   ],
   "source": [
    "B_det = np.linalg.det(B)\n",
    "print(B_det)\n",
    "B_inv = np.linalg.inv(B)\n",
    "print(B_inv)"
   ]
  },
  {
   "cell_type": "markdown",
   "metadata": {},
   "source": [
    "We have mannually calculated the det(B) is -7, so its almost the same.\n",
    "inv B = 1/(-7)* [[1,-2],[-6,5]] = [[-1/7,2/7],[6/7,-5/7]], so its almost the same."
   ]
  },
  {
   "cell_type": "code",
   "execution_count": 17,
   "metadata": {},
   "outputs": [
    {
     "name": "stdout",
     "output_type": "stream",
     "text": [
      "[[ 1.00000000e+00  1.11022302e-16  0.00000000e+00]\n",
      " [ 1.38777878e-17  1.00000000e+00  0.00000000e+00]\n",
      " [ 5.55111512e-17 -8.32667268e-17  1.00000000e+00]]\n",
      "[[ 1.00000000e+00  2.49800181e-16 -2.77555756e-17]\n",
      " [ 2.77555756e-17  1.00000000e+00  0.00000000e+00]\n",
      " [ 0.00000000e+00  0.00000000e+00  1.00000000e+00]]\n"
     ]
    }
   ],
   "source": [
    "D_inv = np.linalg.inv(D)\n",
    "DD_inv = np.matmul(D, D_inv)\n",
    "print(DD_inv)\n",
    "D_invD = np.matmul(D_inv, D)\n",
    "print(D_invD)"
   ]
  },
  {
   "cell_type": "markdown",
   "metadata": {},
   "source": [
    "Although both of the matrices 3x3 identity matrices,\n",
    "The values of both of them are different, hence the matrix multiplication is not commutative."
   ]
  }
 ],
 "metadata": {
  "kernelspec": {
   "display_name": "Python 3 (ipykernel)",
   "language": "python",
   "name": "python3"
  },
  "language_info": {
   "codemirror_mode": {
    "name": "ipython",
    "version": 3
   },
   "file_extension": ".py",
   "mimetype": "text/x-python",
   "name": "python",
   "nbconvert_exporter": "python",
   "pygments_lexer": "ipython3",
   "version": "3.9.13"
  },
  "vscode": {
   "interpreter": {
    "hash": "b5b864475868f0702df21bfcc7ff9c9573b0d18dbde16ff1daf34ae9e2da6881"
   }
  }
 },
 "nbformat": 4,
 "nbformat_minor": 1
}
