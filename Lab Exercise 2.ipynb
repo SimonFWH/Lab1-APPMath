{
 "cells": [
  {
   "cell_type": "markdown",
   "id": "c8f52843",
   "metadata": {},
   "source": [
    "<p style=\"font-family: Arial; font-size:3em;color:black;\"> Lab Exercise 2 </p>"
   ]
  },
  {
   "cell_type": "markdown",
   "id": "97e4b335",
   "metadata": {},
   "source": [
    "Students name in this Group:  \n",
    "Nooh Faisal\\\n",
    "Wai Hong Fung\\\n",
    "Mae Lam\\\n",
    "Ho Kong Leung\\\n",
    "Mayuresh Nerurkar\\\n",
    "Ramana Surriyan Rajendran\\\n",
    "Hanlun Wang\\\n",
    "Wing Han Yiu"
   ]
  },
  {
   "cell_type": "code",
   "execution_count": 12,
   "id": "a703454e",
   "metadata": {
    "scrolled": true
   },
   "outputs": [
    {
     "data": {
      "text/plain": [
       "0.019230769230769232"
      ]
     },
     "execution_count": 12,
     "metadata": {},
     "output_type": "execute_result"
    }
   ],
   "source": [
    "#(4 of hearts)/(52 cards whole deck)\n",
    "1/52"
   ]
  },
  {
   "cell_type": "code",
   "execution_count": 13,
   "id": "a2be5d01",
   "metadata": {},
   "outputs": [
    {
     "data": {
      "text/plain": [
       "0.07692307692307693"
      ]
     },
     "execution_count": 13,
     "metadata": {},
     "output_type": "execute_result"
    }
   ],
   "source": [
    "# jack/ 52 cards \n",
    "4/52"
   ]
  },
  {
   "cell_type": "code",
   "execution_count": 14,
   "id": "ffc7316e",
   "metadata": {},
   "outputs": [
    {
     "data": {
      "text/plain": [
       "0.038461538461538464"
      ]
     },
     "execution_count": 14,
     "metadata": {},
     "output_type": "execute_result"
    }
   ],
   "source": [
    "# king of red colour/ 52 cards\n",
    "2/52"
   ]
  },
  {
   "cell_type": "code",
   "execution_count": 15,
   "id": "8d606b5c",
   "metadata": {},
   "outputs": [
    {
     "data": {
      "text/plain": [
       "0.25"
      ]
     },
     "execution_count": 15,
     "metadata": {},
     "output_type": "execute_result"
    }
   ],
   "source": [
    "#P(Card of Diamond)\n",
    "13/52"
   ]
  },
  {
   "cell_type": "code",
   "execution_count": 16,
   "id": "3e253c94",
   "metadata": {},
   "outputs": [
    {
     "data": {
      "text/plain": [
       "0.9230769230769231"
      ]
     },
     "execution_count": 16,
     "metadata": {},
     "output_type": "execute_result"
    }
   ],
   "source": [
    "#P(Non-Ace)\n",
    "48/52"
   ]
  },
  {
   "cell_type": "code",
   "execution_count": 17,
   "id": "ef84862f",
   "metadata": {},
   "outputs": [
    {
     "data": {
      "text/plain": [
       "0.004524886877828055"
      ]
     },
     "execution_count": 17,
     "metadata": {},
     "output_type": "execute_result"
    }
   ],
   "source": [
    "#P(Second Card is King|First Card is King)\n",
    "4/52 * 3/51"
   ]
  },
  {
   "cell_type": "code",
   "execution_count": 19,
   "id": "595f5e33",
   "metadata": {},
   "outputs": [
    {
     "data": {
      "text/plain": [
       "0.56"
      ]
     },
     "execution_count": 19,
     "metadata": {},
     "output_type": "execute_result"
    }
   ],
   "source": [
    "# P(College Domitory\\College Accepted)P(College Accepted)\n",
    "8/10 * 7/10"
   ]
  },
  {
   "cell_type": "code",
   "execution_count": null,
   "id": "c9b907db",
   "metadata": {},
   "outputs": [],
   "source": []
  }
 ],
 "metadata": {
  "kernelspec": {
   "display_name": "Python 3 (ipykernel)",
   "language": "python",
   "name": "python3"
  },
  "language_info": {
   "codemirror_mode": {
    "name": "ipython",
    "version": 3
   },
   "file_extension": ".py",
   "mimetype": "text/x-python",
   "name": "python",
   "nbconvert_exporter": "python",
   "pygments_lexer": "ipython3",
   "version": "3.9.13"
  }
 },
 "nbformat": 4,
 "nbformat_minor": 5
}
