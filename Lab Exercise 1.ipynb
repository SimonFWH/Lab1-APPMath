{
 "cells": [
  {
   "cell_type": "markdown",
   "metadata": {},
   "source": [
    "<p style=\"font-family: Arial; font-size:3em;color:black;\"> Lab 1 </p>"
   ]
  },
  {
   "cell_type": "markdown",
   "metadata": {},
   "source": [
    "Students name in this Group:  \n",
    "Nooh Faisal\\\n",
    "Wai Hong Fung\\\n",
    "Mae Lam\\\n",
    "Ho Kong Leung\\\n",
    "Mayuresh Nerurkar\\\n",
    "Ramana Surriyan Rajendran\\\n",
    "Hanlun Wang\\\n",
    "Wing Han Yiu"
   ]
  },
  {
   "cell_type": "markdown",
   "metadata": {},
   "source": [
    "Group 9"
   ]
  },
  {
   "cell_type": "code",
   "execution_count": 2,
   "metadata": {},
   "outputs": [],
   "source": [
    "# importing numpy\n",
    "import numpy as np\n"
   ]
  },
  {
   "cell_type": "code",
   "execution_count": 3,
   "metadata": {},
   "outputs": [
    {
     "name": "stdout",
     "output_type": "stream",
     "text": [
      "[1 2 3 5 0]\n",
      "All of [1 2 3 5 0]'s elements are non-zero: False\n"
     ]
    }
   ],
   "source": [
    "# Create a numpy array with the elements \"1, 2, 3, 5, 0\", print the array and test if all of its elements are non-zero.\n",
    "a = np.array([1, 2, 3, 5, 0])\n",
    "print(a)\n",
    "a_all_nonzero = np.all(a)\n",
    "print(f\"All of {a}'s elements are non-zero: {a_all_nonzero}\")\n"
   ]
  },
  {
   "cell_type": "code",
   "execution_count": 4,
   "metadata": {},
   "outputs": [
    {
     "name": "stdout",
     "output_type": "stream",
     "text": [
      "[ 3 -1  3  7  2]\n",
      "Any of [ 3 -1  3  7  2]'s elements is non-zero: True\n"
     ]
    }
   ],
   "source": [
    "# Create a numpy array with the elements \"3, -1, 3, 7, 2\", print the array and test if any of its elements is non-zero.\n",
    "b = np.array([3, -1, 3, 7, 2])\n",
    "print(b)\n",
    "b_any_nonzero = np.any(b)\n",
    "print(f\"Any of {b}'s elements is non-zero: {b_any_nonzero}\")\n"
   ]
  },
  {
   "cell_type": "code",
   "execution_count": 5,
   "metadata": {},
   "outputs": [
    {
     "name": "stdout",
     "output_type": "stream",
     "text": [
      "[0 0 0 0]\n",
      "Any of [0 0 0 0]'s elements is non-zero: False\n"
     ]
    }
   ],
   "source": [
    "# Create a numpy array with the elements \"0, 0, 0, 0\", print the array and test if any of its elements is non-zero.\n",
    "c = np.array([0, 0, 0, 0])\n",
    "print(c)\n",
    "c_any_nonzero = np.any(c)\n",
    "print(f\"Any of {c}'s elements is non-zero: {c_any_nonzero}\")"
   ]
  },
  {
   "cell_type": "code",
   "execution_count": 6,
   "metadata": {},
   "outputs": [
    {
     "name": "stdout",
     "output_type": "stream",
     "text": [
      "[56 -2  7]\n",
      "The amount of memory required to store [56 -2  7] is: 24 bytes\n"
     ]
    }
   ],
   "source": [
    "# Create a numpy array with the elements \"56, -2, 7\", print the array and the amount of memory required to store it.\n",
    "d = np.array([56, -2, 7])\n",
    "print(d)\n",
    "d_memory_size = d.nbytes\n",
    "print(f\"The amount of memory required to store {d} is: {d_memory_size} bytes\")"
   ]
  },
  {
   "cell_type": "code",
   "execution_count": 7,
   "metadata": {},
   "outputs": [
    {
     "name": "stdout",
     "output_type": "stream",
     "text": [
      "[0. 0. 0. 0. 0. 0. 0. 0. 0. 0.]\n",
      "[1. 1. 1. 1. 1. 1.]\n",
      "[3. 3. 3. 3. 3. 3. 3. 3. 3. 3. 3. 3.]\n"
     ]
    }
   ],
   "source": [
    "# Create a numpy array with 10 zeros and print the array.\n",
    "e = np.zeros(10)\n",
    "print(e)\n",
    "\n",
    "# Create a numpy array with 6 ones and print the array.\n",
    "f = np.ones(6)\n",
    "print(f)\n",
    "\n",
    "# Create a numpy array with 12 '3's and print the array. [3 3 3 3 3 3 3 3 3 3 3 3]\n",
    "g = np.ones(12)*3\n",
    "print(g)\n"
   ]
  },
  {
   "cell_type": "code",
   "execution_count": 8,
   "metadata": {},
   "outputs": [
    {
     "name": "stdout",
     "output_type": "stream",
     "text": [
      "[ 8  9 10 11 12 13 14 15 16 17 18 19 20]\n",
      "[ 8 10 12 14 16 18 20]\n"
     ]
    }
   ],
   "source": [
    "# Create a numpy array of the integers from 8 to 20 and print the array. (make sure 20 itself is included) hint:  use \"arange\" method\n",
    "h = np.arange(8, 21)\n",
    "print(h)\n",
    "\n",
    "# Create a numpy array of the even integers from 8 to 20 and print the array. (make sure 20 itself is included)   hint:  use \"arange\" method\n",
    "i = np.arange(8, 21, 2)\n",
    "print(i)\n"
   ]
  },
  {
   "cell_type": "code",
   "execution_count": 9,
   "metadata": {},
   "outputs": [
    {
     "name": "stdout",
     "output_type": "stream",
     "text": [
      "mean: 1.992067075171545, max: 3.309926131349738, min: 0.46750331127331246, std: 0.545651191008055\n",
      "mean: 1.9872793557939046, max: 3.2838040682051113, min: 0.4219622881517784, std: 0.4960163921074563\n",
      "mean: 1.9991399610647638, max: 4.542547501251583, min: -0.7152316925328646, std: 0.50031897127928\n"
     ]
    }
   ],
   "source": [
    "# Create a numpy array consisting of 100 random elements from normal distribution with mean of 2 and std of 0.5. Print the mean, max, min and std of the array.\n",
    "j = np.random.normal(2, 0.5, 100)\n",
    "print(f\"mean: {np.mean(j)}, max: {np.max(j)}, min: {np.min(j)}, std: {np.std(j)}\")\n",
    "\n",
    "# Create a numpy array consisting of 1000 random elements from normal distribution with mean of 2 and std of 0.5. Print the mean, max, min and std of the array.\n",
    "k = np.random.normal(2, 0.5, 1000)\n",
    "print(f\"mean: {np.mean(k)}, max: {np.max(k)}, min: {np.min(k)}, std: {np.std(k)}\")\n",
    "\n",
    "# Create a numpy array consisting of 1000000 random elements from normal distribution with mean of 2 and std of 0.5. Print the mean, max, min and std of the array.\n",
    "l = np.random.normal(2, 0.5, 1000000)\n",
    "print(f\"mean: {np.mean(l)}, max: {np.max(l)}, min: {np.min(l)}, std: {np.std(l)}\")\n",
    "\n",
    "# (Bonus question) Looking at the three above examples with 1000, 5000, and 10000 random elements, do you have any observations about mean and std values?\n",
    "# The mean and std values are very similar and very close to the number we set. The mean is close to 2 and std is close to 0.5.\n",
    "\n"
   ]
  },
  {
   "cell_type": "code",
   "execution_count": null,
   "metadata": {},
   "outputs": [],
   "source": []
  }
 ],
 "metadata": {
  "kernelspec": {
   "display_name": "Python 3 (ipykernel)",
   "language": "python",
   "name": "python3"
  },
  "language_info": {
   "codemirror_mode": {
    "name": "ipython",
    "version": 3
   },
   "file_extension": ".py",
   "mimetype": "text/x-python",
   "name": "python",
   "nbconvert_exporter": "python",
   "pygments_lexer": "ipython3",
   "version": "3.9.13"
  },
  "vscode": {
   "interpreter": {
    "hash": "b5b864475868f0702df21bfcc7ff9c9573b0d18dbde16ff1daf34ae9e2da6881"
   }
  }
 },
 "nbformat": 4,
 "nbformat_minor": 1
}
